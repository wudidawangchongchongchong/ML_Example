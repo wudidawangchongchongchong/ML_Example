{
 "cells": [
  {
   "cell_type": "code",
   "execution_count": null,
   "metadata": {},
   "outputs": [],
   "source": [
    "import numpy as np\n",
    "import tensorflow as tf\n",
    "from tensorflow import keras\n",
    "import pandas as pd\n",
    "import matplotlib.pyplot as plt"
   ]
  },
  {
   "cell_type": "code",
   "execution_count": null,
   "metadata": {},
   "outputs": [],
   "source": [
    "import os \n",
    "import time\n",
    "root_logdir=os.path.join(os.curdir,'my_log')\n",
    "def get_run_logdir():\n",
    "    run_id = time.strftime(\"run_%Y_%m_%d-%H_%M_%S\")\n",
    "    return os.path.join(root_logdir,run_id)"
   ]
  },
  {
   "cell_type": "code",
   "execution_count": null,
   "metadata": {},
   "outputs": [],
   "source": [
    "#Generate test time series data， batch_size different series and each series n_steps long;\n",
    "def generate_time_series(batch_size, n_steps):\n",
    "    freq1, freq2, offsets1, offsets2 = np.random.rand(4, batch_size, 1)\n",
    "    time = np.linspace(0, 1, n_steps)\n",
    "    series = 0.5 * np.sin((time - offsets1) * (freq1 * 10 + 10)) # wave 1\n",
    "    series += 0.2 * np.sin((time - offsets2) * (freq2 * 20 + 20)) # + wave 2\n",
    "    series += 0.1 * (np.random.rand(batch_size, n_steps) - 0.5) # + noise\n",
    "    return series[..., np.newaxis].astype(np.float32)\n",
    "\n",
    "\n",
    "#split into train,valid,test set\n",
    "n_steps=50\n",
    "series=generate_time_series(10000,n_steps+1)\n",
    "X_train,y_train=series[:7000,:n_steps],series[:7000,-1]\n",
    "X_valid,y_valid=series[7000:9000,:n_steps],series[7000:9000,-1]\n",
    "X_test,y_test=series[9000:,:n_steps],series[9000:,-1]\n",
    "\n",
    "\n",
    "#Performance baseline\n",
    "y_pred=X_valid[:,-1]\n",
    "baselineError=np.mean(keras.losses.mse(y_valid,y_pred))"
   ]
  },
  {
   "cell_type": "code",
   "execution_count": null,
   "metadata": {},
   "outputs": [],
   "source": [
    "#Construct 1-layer RNN model\n",
    "simpleRnn=keras.models.Sequential([\n",
    "    keras.layers.Input(shape=[None,1]),\n",
    "    keras.layers.SimpleRNN(1,return_sequences=True)\n",
    "])\n",
    "\n",
    "#Compile \n",
    "simpleRnn.compile(loss='mse',optimizer='Adam')\n",
    "\n",
    "#Train\n",
    "simpleRnn.fit(X_train,y_train,validation_data=[X_valid,y_valid],epochs=20)"
   ]
  },
  {
   "cell_type": "code",
   "execution_count": null,
   "metadata": {},
   "outputs": [],
   "source": [
    "#plotting traning history\n",
    "def plot_curve(history_data):\n",
    "    pd.DataFrame(history_data).plot(figsize=(8, 5))\n",
    "    plt.grid(True)\n",
    "    plt.gca().set_ylim(0, 1) # set the vertical range to [0-1]\n",
    "    plt.show()\n",
    "    return "
   ]
  },
  {
   "cell_type": "code",
   "execution_count": null,
   "metadata": {},
   "outputs": [],
   "source": [
    "#Deep RNN\n",
    "deepRnn=keras.models.Sequential([\n",
    "    keras.layers.Input(shape=[None,1]),\n",
    "    keras.layers.SimpleRNN(20,return_sequences=True),\n",
    "    keras.layers.SimpleRNN(20,return_sequences=True),\n",
    "    keras.layers.SimpleRNN(1)\n",
    "])\n",
    "\n",
    "#Compile\n",
    "deepRnn.compile(optimizer='Adam',loss='mse')\n"
   ]
  },
  {
   "cell_type": "code",
   "execution_count": null,
   "metadata": {},
   "outputs": [],
   "source": [
    "deepRnn.fit(X_train,y_train,validation_data=[X_valid,y_valid],epochs=20)\n",
    "pd.DataFrame(deepRnn.history.history).plot(figsize=(8, 5))\n",
    "plt.grid(True)\n",
    "plt.gca().set_ylim(0, .1) # set the vertical range to [0-1]\n",
    "plt.show()"
   ]
  },
  {
   "cell_type": "code",
   "execution_count": null,
   "metadata": {},
   "outputs": [],
   "source": [
    "#Modified deep RNN\n",
    "modRNN=keras.models.Sequential([\n",
    "    keras.layers.Input(shape=[None,1]),\n",
    "    keras.layers.SimpleRNN(20,return_sequences=True),\n",
    "    keras.layers.SimpleRNN(20),\n",
    "    keras.layers.Dense(1)\n",
    "])\n",
    "#compile\n",
    "modRNN.compile(loss='mse',optimizer='adam')\n",
    "#train\n",
    "modRNN.fit(X_train,y_train,validation_data=[X_valid,y_valid],epochs=20)\n",
    "pd.DataFrame(deepRnn.history.history).plot(figsize=(8, 5))\n",
    "plt.grid(True)\n",
    "plt.gca().set_ylim(0, .02) # set the vertical range to [0-1]\n",
    "plt.show()"
   ]
  },
  {
   "cell_type": "code",
   "execution_count": null,
   "metadata": {},
   "outputs": [],
   "source": [
    "#split into train,valid,test set\n",
    "n_steps=50\n",
    "series=generate_time_series(10000,n_steps+10)\n",
    "X_train,y_train=series[:7000,:n_steps],series[:7000,n_steps:]\n",
    "X_valid,y_valid=series[7000:9000,:n_steps],series[7000:9000,n_steps:]\n",
    "X_test,y_test=series[9000:,:n_steps],series[9000:,n_steps:]\n",
    "\n"
   ]
  },
  {
   "cell_type": "code",
   "execution_count": null,
   "metadata": {},
   "outputs": [],
   "source": [
    "#RNN with multi-output\n",
    "multiRnn=keras.models.Sequential([\n",
    "    keras.layers.Input(shape=[None,1]),\n",
    "    keras.layers.SimpleRNN(20,return_sequences=True),\n",
    "    keras.layers.SimpleRNN(20),\n",
    "    keras.layers.Dense(10)\n",
    "])\n",
    "#compile \n",
    "multiRnn.compile(loss='mse',optimizer='adam')\n",
    "multiRnn.fit(X_train,y_train,validation_data=[X_valid,y_valid],epochs=20)"
   ]
  },
  {
   "cell_type": "code",
   "execution_count": null,
   "metadata": {},
   "outputs": [],
   "source": [
    "#data preparation\n",
    "Y=np.empty((10000,n_steps,10))\n",
    "for steps in range(10):\n",
    "    Y[:,:,steps]=series[:,steps+1:steps+1+n_steps,0]\n",
    "Y_train=Y[:7000]\n",
    "Y_valid=Y[7000:9000]\n",
    "Y_test=Y[9000:]"
   ]
  },
  {
   "cell_type": "code",
   "execution_count": null,
   "metadata": {},
   "outputs": [],
   "source": [
    "multiRnn=keras.models.Sequential([\n",
    "    keras.layers.Input(shape=[None,1]),\n",
    "    keras.layers.SimpleRNN(20,return_sequences=True),\n",
    "    keras.layers.SimpleRNN(20,return_sequences=True),\n",
    "    keras.layers.TimeDistributed(keras.layers.Dense(10))\n",
    "])\n",
    "\n",
    "def custom_mse(y_true,y_pred):\n",
    "    return keras.metrics.mse(y_true[:-1],y_pred[:-1])\n",
    "\n",
    "\n",
    "multiRnn.compile(loss='mse',optimizer=keras.optimizers.Adam(learning_rate=0.01),metrics=[custom_mse])"
   ]
  },
  {
   "cell_type": "code",
   "execution_count": null,
   "metadata": {},
   "outputs": [],
   "source": [
    "run_log=get_run_logdir()\n",
    "tensor_cb=keras.callbacks.TensorBoard(run_log)\n",
    "multiRnn.fit(X_train,Y_train,validation_data=[X_valid,Y_valid],epochs=20,callbacks=[tensor_cb])"
   ]
  },
  {
   "cell_type": "code",
   "execution_count": null,
   "metadata": {},
   "outputs": [],
   "source": [
    "%reload_ext tensorboard\n",
    "%tensorboard --logdir=./my_logs --port=6006\n",
    "!kill 19234"
   ]
  },
  {
   "cell_type": "code",
   "execution_count": null,
   "metadata": {},
   "outputs": [],
   "source": [
    "pd.DataFrame(multiRnn.history.history).plot(figsize=(8, 5))\n",
    "plt.grid(True)\n",
    "plt.gca().set_ylim(0, .06) # set the vertical range to [0-1]\n",
    "plt.show()"
   ]
  },
  {
   "cell_type": "code",
   "execution_count": null,
   "metadata": {},
   "outputs": [],
   "source": [
    "#LSTM RNN\n"
   ]
  }
 ],
 "metadata": {
  "kernelspec": {
   "display_name": "Python 3",
   "language": "python",
   "name": "python3"
  },
  "language_info": {
   "codemirror_mode": {
    "name": "ipython",
    "version": 3
   },
   "file_extension": ".py",
   "mimetype": "text/x-python",
   "name": "python",
   "nbconvert_exporter": "python",
   "pygments_lexer": "ipython3",
   "version": "3.11.4"
  }
 },
 "nbformat": 4,
 "nbformat_minor": 2
}
