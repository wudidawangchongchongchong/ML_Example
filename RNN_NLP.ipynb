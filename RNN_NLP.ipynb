{
 "cells": [
  {
   "cell_type": "code",
   "execution_count": null,
   "metadata": {},
   "outputs": [],
   "source": [
    "#Language processing RNN\n",
    "import numpy as np\n",
    "import tensorflow as tf\n",
    "from tensorflow import keras\n",
    "import pandas as pd\n",
    "import matplotlib.pyplot as plt\n",
    "#Data preparation\n",
    "#shakespeare_url = \"https://homl.info/shakespeare\" # shortcut URL\n",
    "#filepath = keras.utils.get_file(\"shakespeare.txt\", shakespeare_url)\n",
    "filepath='/Users/liaoyiwei/.keras/datasets/shakespeare.txt'\n",
    "with open(filepath) as f:\n",
    "    shakespeare_text=f.read()"
   ]
  },
  {
   "cell_type": "code",
   "execution_count": null,
   "metadata": {},
   "outputs": [],
   "source": [
    "Tokenizer=keras.preprocessing.text.Tokenizer(char_level=False)\n",
    "Tokenizer.fit_on_texts([shakespeare_text])\n",
    "max_id=len(Tokenizer.word_index)\n",
    "[encoded]=np.array(Tokenizer.texts_to_sequences([shakespeare_text]))-1\n",
    "data_size=len(encoded)\n",
    "\n",
    "train_size=data_size*9//100"
   ]
  },
  {
   "cell_type": "code",
   "execution_count": null,
   "metadata": {},
   "outputs": [],
   "source": [
    "train_size"
   ]
  },
  {
   "cell_type": "code",
   "execution_count": null,
   "metadata": {},
   "outputs": [],
   "source": [
    "data_train=tf.data.Dataset.from_tensor_slices(encoded[:train_size])\n",
    "dataTrain=data_train.window(100,1,drop_remainder=True)\n",
    "dataTrain = dataTrain.flat_map(lambda window: window.batch(101))"
   ]
  },
  {
   "cell_type": "code",
   "execution_count": null,
   "metadata": {},
   "outputs": [],
   "source": [
    "dataset=dataTrain.shuffle(10000).batch(32)\n",
    "dataset=dataset.map(lambda window: (window[:,:-1],window[:,1:]))\n",
    "dataset = dataset.map(lambda X_batch, Y_batch: (tf.one_hot(X_batch, depth=max_id), Y_batch))\n",
    "dataset=dataset.prefetch(1)"
   ]
  },
  {
   "cell_type": "code",
   "execution_count": null,
   "metadata": {},
   "outputs": [],
   "source": [
    "model = keras.models.Sequential([\n",
    " keras.layers.Input(shape=[None,max_id]),\n",
    " keras.layers.GRU(128, return_sequences=True, \n",
    " dropout=0.2, recurrent_dropout=0.2),\n",
    " keras.layers.GRU(128, return_sequences=True,\n",
    " dropout=0.2, recurrent_dropout=0.2),\n",
    " keras.layers.TimeDistributed(keras.layers.Dense(max_id,\n",
    " activation=\"softmax\"))\n",
    "])\n"
   ]
  },
  {
   "cell_type": "code",
   "execution_count": null,
   "metadata": {},
   "outputs": [],
   "source": [
    "model.compile(loss='sparse_categorical_crossentropy',optimizer='sgd')"
   ]
  },
  {
   "cell_type": "code",
   "execution_count": null,
   "metadata": {},
   "outputs": [],
   "source": [
    "model.fit(dataset,epochs=20)"
   ]
  }
 ],
 "metadata": {
  "kernelspec": {
   "display_name": "Python 3",
   "language": "python",
   "name": "python3"
  },
  "language_info": {
   "codemirror_mode": {
    "name": "ipython",
    "version": 3
   },
   "file_extension": ".py",
   "mimetype": "text/x-python",
   "name": "python",
   "nbconvert_exporter": "python",
   "pygments_lexer": "ipython3",
   "version": "3.11.4"
  }
 },
 "nbformat": 4,
 "nbformat_minor": 2
}
